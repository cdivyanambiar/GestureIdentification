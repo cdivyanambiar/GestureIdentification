{
 "cells": [
  {
   "cell_type": "code",
   "execution_count": 0,
   "metadata": {
    "colab": {},
    "colab_type": "code",
    "id": "JQd8I6H3S1oo"
   },
   "outputs": [],
   "source": [
    "# importing libraries\n",
    "from PIL import Image\n",
    "import numpy as np\n",
    "import pandas as pd\n",
    "import sys, os, shutil, csv\n",
    "import fnmatch\n",
    "import matplotlib.pyplot as plt\n",
    "from sklearn.model_selection import train_test_split\n",
    "from sklearn.metrics import confusion_matrix\n",
    "from sklearn.metrics import accuracy_score, f1_score, precision_score, recall_score, classification_report, confusion_matrix\n",
    "from tensorflow.keras import layers, models\n",
    "import cv2"
   ]
  },
  {
   "cell_type": "code",
   "execution_count": 0,
   "metadata": {
    "colab": {},
    "colab_type": "code",
    "id": "2fKFs4GCS-9G"
   },
   "outputs": [],
   "source": [
    "ROOT_DIR='./drive/My Drive/Assignment/'\n",
    "ROOT_DIR_TRAIN=ROOT_DIR +'/train'\n",
    "ROOT_DIR_TEST=ROOT_DIR +'val'\n",
    "TRAIN = 'train.csv'\n",
    "TEST = 'val.csv'"
   ]
  },
  {
   "cell_type": "markdown",
   "metadata": {
    "colab_type": "text",
    "id": "IbvP_6E0SHV8"
   },
   "source": [
    "# Looping through the path and fetching images\n",
    "\n"
   ]
  },
  {
   "cell_type": "code",
   "execution_count": 0,
   "metadata": {
    "colab": {},
    "colab_type": "code",
    "id": "hBCxbTIFTGRj"
   },
   "outputs": [],
   "source": [
    "\n",
    "# fuctions returns all files of given format within given directory\n",
    "def createImageFileList(dir, format='.png'):\n",
    "    fileList = []\n",
    "    for root, dirs, files in os.walk(dir, topdown=False):\n",
    "        for name in files:\n",
    "            if name.endswith(format):\n",
    "                fullName = os.path.join(root, name)\n",
    "                fileList.append(fullName)   \n",
    "    return fileList"
   ]
  },
  {
   "cell_type": "markdown",
   "metadata": {
    "colab_type": "text",
    "id": "t4hlukE-SmUD"
   },
   "source": [
    "# Looping through Training folders \n",
    "# Creating trainig and test data\n"
   ]
  },
  {
   "cell_type": "code",
   "execution_count": 0,
   "metadata": {
    "colab": {},
    "colab_type": "code",
    "id": "J_2FRANeTnU8"
   },
   "outputs": [],
   "source": [
    "train_folders = np.random.permutation(open(ROOT_DIR +'/'+ TRAIN).readlines())\n",
    "X = []\n",
    "y = []\n",
    "num_images = 0\n",
    "for folder in range(train_folders.size):\n",
    "    # Images\n",
    "    imagepaths = [] # Image paths        \n",
    "    path = ROOT_DIR_TRAIN+'/'+ train_folders[folder].strip().split(';')[0]\n",
    "    class_index = int(train_folders[folder].strip().split(';')[2])\n",
    "    imagepaths = createImageFileList(path)\n",
    "    # Load each image into X[] & y[]\n",
    "    for image in imagepaths:\n",
    "        img = cv2.imread(image)\n",
    "        img = cv2.cvtColor(img, cv2.COLOR_BGR2GRAY)\n",
    "        img = cv2.resize(img, (240,240))\n",
    "        # Build training example, label\n",
    "        num_images = num_images + 1\n",
    "        X.append(img)\n",
    "        y.append(class_index)"
   ]
  },
  {
   "cell_type": "markdown",
   "metadata": {
    "colab_type": "text",
    "id": "coN_ppL1Y4nJ"
   },
   "source": [
    "## Reshaping train array  \n",
    "\n"
   ]
  },
  {
   "cell_type": "code",
   "execution_count": 11,
   "metadata": {
    "colab": {
     "base_uri": "https://localhost:8080/",
     "height": 33
    },
    "colab_type": "code",
    "executionInfo": {
     "elapsed": 3460869,
     "status": "ok",
     "timestamp": 1586765217109,
     "user": {
      "displayName": "Divya Nambiar",
      "photoUrl": "https://lh3.googleusercontent.com/a-/AOh14Gg9xpIsj3XCf1Kk6vaJQZZF9Z43D2ba3D6eWxgbIQ=s64",
      "userId": "13291512088634211307"
     },
     "user_tz": -330
    },
    "id": "VBV2JqK9Y5fA",
    "outputId": "bba3b986-bb38-4f59-983d-fb332294e09e"
   },
   "outputs": [
    {
     "name": "stdout",
     "output_type": "stream",
     "text": [
      "Num Images:  19496\n"
     ]
    }
   ],
   "source": [
    "print(\"Num Images: \", num_images)\n",
    "X = np.array(X, dtype='uint8')\n",
    "X = X.reshape(num_images, 240, 240, 1)\n",
    "y = np.array(y)"
   ]
  },
  {
   "cell_type": "markdown",
   "metadata": {
    "colab_type": "text",
    "id": "sAF_4uEhTrwk"
   },
   "source": [
    "# Splitting test and train data\n"
   ]
  },
  {
   "cell_type": "code",
   "execution_count": 0,
   "metadata": {
    "colab": {},
    "colab_type": "code",
    "id": "xCZU3-SYSDSQ"
   },
   "outputs": [],
   "source": [
    "ts = 0.2\n",
    "X_train, X_test, y_train, y_test = train_test_split(X, y, test_size=ts, random_state=42)"
   ]
  },
  {
   "cell_type": "code",
   "execution_count": 13,
   "metadata": {
    "colab": {
     "base_uri": "https://localhost:8080/",
     "height": 33
    },
    "colab_type": "code",
    "executionInfo": {
     "elapsed": 3461499,
     "status": "ok",
     "timestamp": 1586765217766,
     "user": {
      "displayName": "Divya Nambiar",
      "photoUrl": "https://lh3.googleusercontent.com/a-/AOh14Gg9xpIsj3XCf1Kk6vaJQZZF9Z43D2ba3D6eWxgbIQ=s64",
      "userId": "13291512088634211307"
     },
     "user_tz": -330
    },
    "id": "qTiixo75VM6R",
    "outputId": "942ac112-0316-4713-d406-44082fd2e431"
   },
   "outputs": [
    {
     "name": "stderr",
     "output_type": "stream",
     "text": [
      "Using TensorFlow backend.\n"
     ]
    }
   ],
   "source": [
    "from keras.models import Sequential\n",
    "from keras.layers.convolutional import Conv2D, MaxPooling2D\n",
    "from keras.layers import Dense, Flatten"
   ]
  },
  {
   "cell_type": "markdown",
   "metadata": {
    "colab_type": "text",
    "id": "-FlXdq-dTyuz"
   },
   "source": [
    "# \n",
    "# Construction of model\n"
   ]
  },
  {
   "cell_type": "code",
   "execution_count": 0,
   "metadata": {
    "colab": {},
    "colab_type": "code",
    "id": "7TxJkVxaWmJS"
   },
   "outputs": [],
   "source": [
    "\n",
    "model = Sequential()\n",
    "model.add(Conv2D(32, (5, 5), activation='relu', input_shape=(240, 240, 1))) \n",
    "model.add(MaxPooling2D((2, 2)))\n",
    "model.add(Conv2D(64, (3, 3), activation='relu')) \n",
    "model.add(MaxPooling2D((2, 2)))\n",
    "model.add(Conv2D(64, (3, 3), activation='relu'))\n",
    "model.add(MaxPooling2D((2, 2)))\n",
    "model.add(Flatten())\n",
    "model.add(Dense(128, activation='relu'))\n",
    "model.add(Dense(5, activation='softmax'))"
   ]
  },
  {
   "cell_type": "code",
   "execution_count": 0,
   "metadata": {
    "colab": {},
    "colab_type": "code",
    "id": "sE8jd4KpW9yJ"
   },
   "outputs": [],
   "source": [
    "model.compile(optimizer='adam',\n",
    "              loss='sparse_categorical_crossentropy',\n",
    "              metrics=['accuracy'])"
   ]
  },
  {
   "cell_type": "code",
   "execution_count": 16,
   "metadata": {
    "colab": {
     "base_uri": "https://localhost:8080/",
     "height": 147
    },
    "colab_type": "code",
    "executionInfo": {
     "elapsed": 4266900,
     "status": "ok",
     "timestamp": 1586766023311,
     "user": {
      "displayName": "Divya Nambiar",
      "photoUrl": "https://lh3.googleusercontent.com/a-/AOh14Gg9xpIsj3XCf1Kk6vaJQZZF9Z43D2ba3D6eWxgbIQ=s64",
      "userId": "13291512088634211307"
     },
     "user_tz": -330
    },
    "id": "BB1LQSUbnUbj",
    "outputId": "8bfc579b-c890-4f4f-9d4a-c2c36eb990c0"
   },
   "outputs": [
    {
     "name": "stdout",
     "output_type": "stream",
     "text": [
      "Train on 15596 samples, validate on 3900 samples\n",
      "Epoch 1/3\n",
      "15596/15596 [==============================] - 269s 17ms/step - loss: 3.4433 - accuracy: 0.8706 - val_loss: 0.0244 - val_accuracy: 0.9923\n",
      "Epoch 2/3\n",
      "15596/15596 [==============================] - 267s 17ms/step - loss: 0.0272 - accuracy: 0.9938 - val_loss: 0.0142 - val_accuracy: 0.9964\n",
      "Epoch 3/3\n",
      "15596/15596 [==============================] - 268s 17ms/step - loss: 0.0172 - accuracy: 0.9958 - val_loss: 0.0400 - val_accuracy: 0.9908\n"
     ]
    },
    {
     "data": {
      "text/plain": [
       "<keras.callbacks.callbacks.History at 0x7fe393069fd0>"
      ]
     },
     "execution_count": 16,
     "metadata": {
      "tags": []
     },
     "output_type": "execute_result"
    }
   ],
   "source": [
    "model.fit(X_train,\n",
    "          y_train,\n",
    "          epochs=3,\n",
    "          batch_size=64,\n",
    "          verbose=1,\n",
    "          validation_data=(X_test, y_test))"
   ]
  },
  {
   "cell_type": "markdown",
   "metadata": {
    "colab_type": "text",
    "id": "sXYeRf3tT5hM"
   },
   "source": [
    "# Saving model\n",
    "\n"
   ]
  },
  {
   "cell_type": "code",
   "execution_count": 0,
   "metadata": {
    "colab": {},
    "colab_type": "code",
    "id": "hc-jSz41pUXB"
   },
   "outputs": [],
   "source": [
    "model.save('gesture_model.h5')"
   ]
  },
  {
   "cell_type": "code",
   "execution_count": 18,
   "metadata": {
    "colab": {
     "base_uri": "https://localhost:8080/",
     "height": 33
    },
    "colab_type": "code",
    "executionInfo": {
     "elapsed": 4276459,
     "status": "ok",
     "timestamp": 1586766032891,
     "user": {
      "displayName": "Divya Nambiar",
      "photoUrl": "https://lh3.googleusercontent.com/a-/AOh14Gg9xpIsj3XCf1Kk6vaJQZZF9Z43D2ba3D6eWxgbIQ=s64",
      "userId": "13291512088634211307"
     },
     "user_tz": -330
    },
    "id": "L8U6nBadp_5H",
    "outputId": "07964210-0c67-4a42-81ef-f4b5d5276e81"
   },
   "outputs": [
    {
     "name": "stdout",
     "output_type": "stream",
     "text": [
      "3900/3900 [==============================] - 9s 2ms/step\n"
     ]
    }
   ],
   "source": [
    "test_loss, test_acc = model.evaluate(X_test, y_test)"
   ]
  },
  {
   "cell_type": "code",
   "execution_count": 19,
   "metadata": {
    "colab": {
     "base_uri": "https://localhost:8080/",
     "height": 33
    },
    "colab_type": "code",
    "executionInfo": {
     "elapsed": 4276448,
     "status": "ok",
     "timestamp": 1586766032891,
     "user": {
      "displayName": "Divya Nambiar",
      "photoUrl": "https://lh3.googleusercontent.com/a-/AOh14Gg9xpIsj3XCf1Kk6vaJQZZF9Z43D2ba3D6eWxgbIQ=s64",
      "userId": "13291512088634211307"
     },
     "user_tz": -330
    },
    "id": "EmmQKjMxratZ",
    "outputId": "ae4514bd-fdfd-489b-fe0a-6e0601a1b9f7"
   },
   "outputs": [
    {
     "name": "stdout",
     "output_type": "stream",
     "text": [
      "Test accuracy: 99.08%\n"
     ]
    }
   ],
   "source": [
    "print('Test accuracy: {:2.2f}%'.format(test_acc*100))"
   ]
  },
  {
   "cell_type": "markdown",
   "metadata": {
    "colab_type": "text",
    "id": "yPj-W0mcUEN1"
   },
   "source": [
    "# loading saved model\n"
   ]
  },
  {
   "cell_type": "code",
   "execution_count": 95,
   "metadata": {
    "colab": {
     "base_uri": "https://localhost:8080/",
     "height": 440
    },
    "colab_type": "code",
    "executionInfo": {
     "elapsed": 1533,
     "status": "ok",
     "timestamp": 1586775660987,
     "user": {
      "displayName": "Divya Nambiar",
      "photoUrl": "https://lh3.googleusercontent.com/a-/AOh14Gg9xpIsj3XCf1Kk6vaJQZZF9Z43D2ba3D6eWxgbIQ=s64",
      "userId": "13291512088634211307"
     },
     "user_tz": -330
    },
    "id": "v0tzDZLir6Qf",
    "outputId": "4300f7dd-fbee-4e17-f2d1-2513d3dd278f"
   },
   "outputs": [
    {
     "name": "stdout",
     "output_type": "stream",
     "text": [
      "Model: \"sequential_1\"\n",
      "_________________________________________________________________\n",
      "Layer (type)                 Output Shape              Param #   \n",
      "=================================================================\n",
      "conv2d_1 (Conv2D)            (None, 236, 236, 32)      832       \n",
      "_________________________________________________________________\n",
      "max_pooling2d_1 (MaxPooling2 (None, 118, 118, 32)      0         \n",
      "_________________________________________________________________\n",
      "conv2d_2 (Conv2D)            (None, 116, 116, 64)      18496     \n",
      "_________________________________________________________________\n",
      "max_pooling2d_2 (MaxPooling2 (None, 58, 58, 64)        0         \n",
      "_________________________________________________________________\n",
      "conv2d_3 (Conv2D)            (None, 56, 56, 64)        36928     \n",
      "_________________________________________________________________\n",
      "max_pooling2d_3 (MaxPooling2 (None, 28, 28, 64)        0         \n",
      "_________________________________________________________________\n",
      "flatten_1 (Flatten)          (None, 50176)             0         \n",
      "_________________________________________________________________\n",
      "dense_1 (Dense)              (None, 128)               6422656   \n",
      "_________________________________________________________________\n",
      "dense_2 (Dense)              (None, 5)                 645       \n",
      "=================================================================\n",
      "Total params: 6,479,557\n",
      "Trainable params: 6,479,557\n",
      "Non-trainable params: 0\n",
      "_________________________________________________________________\n"
     ]
    }
   ],
   "source": [
    "from keras.models import load_model\n",
    "# load model\n",
    "model = load_model('gesture_model.h5')\n",
    "# summarize model.\n",
    "model.summary()"
   ]
  },
  {
   "cell_type": "markdown",
   "metadata": {
    "colab_type": "text",
    "id": "l4doowG-USZ1"
   },
   "source": [
    "# Reading test images\n",
    "### Some of the lines in csv has more spaces ..so ignoring them\n"
   ]
  },
  {
   "cell_type": "code",
   "execution_count": 131,
   "metadata": {
    "colab": {
     "base_uri": "https://localhost:8080/",
     "height": 33
    },
    "colab_type": "code",
    "executionInfo": {
     "elapsed": 14669,
     "status": "ok",
     "timestamp": 1586777133284,
     "user": {
      "displayName": "Divya Nambiar",
      "photoUrl": "https://lh3.googleusercontent.com/a-/AOh14Gg9xpIsj3XCf1Kk6vaJQZZF9Z43D2ba3D6eWxgbIQ=s64",
      "userId": "13291512088634211307"
     },
     "user_tz": -330
    },
    "id": "dN_3BhzpJuZJ",
    "outputId": "1d7dd4ac-bfca-4876-97f6-c6d6febd4822"
   },
   "outputs": [
    {
     "name": "stdout",
     "output_type": "stream",
     "text": [
      "101\n"
     ]
    }
   ],
   "source": [
    "test_folders = np.random.permutation(open(ROOT_DIR +'/'+ TEST).readlines())\n",
    "_xTest = []\n",
    "_yTest = []\n",
    "num_images_test = 0\n",
    "print(test_folders.size)\n",
    "\n",
    "for folder in range(test_folders.size):\n",
    "  try:\n",
    "    imagepaths = [] # Image paths   \n",
    "    fn = test_folders[folder].strip().split(';')\n",
    "    path = ROOT_DIR_TEST+'/'+ fn[0]\n",
    "    class_index = int(fn[2])\n",
    "    \n",
    "    imagepaths = createImageFileList(path)\n",
    "    # Load each image into X[] & y[]\n",
    "    for image in imagepaths:\n",
    "        img = cv2.imread(image)\n",
    "        img = cv2.cvtColor(img, cv2.COLOR_BGR2GRAY)\n",
    "        img = cv2.resize(img, (240,240))\n",
    "        # Build training example, label\n",
    "        num_images_test = num_images_test + 1\n",
    "        _xTest.append(img)\n",
    "        _yTest.append(class_index)\n",
    "  except:\n",
    "   continue"
   ]
  },
  {
   "cell_type": "markdown",
   "metadata": {
    "colab_type": "text",
    "id": "WTzbx6ihURPY"
   },
   "source": [
    "# Resizing  test arrays\n"
   ]
  },
  {
   "cell_type": "code",
   "execution_count": 132,
   "metadata": {
    "colab": {
     "base_uri": "https://localhost:8080/",
     "height": 33
    },
    "colab_type": "code",
    "executionInfo": {
     "elapsed": 672,
     "status": "ok",
     "timestamp": 1586777137377,
     "user": {
      "displayName": "Divya Nambiar",
      "photoUrl": "https://lh3.googleusercontent.com/a-/AOh14Gg9xpIsj3XCf1Kk6vaJQZZF9Z43D2ba3D6eWxgbIQ=s64",
      "userId": "13291512088634211307"
     },
     "user_tz": -330
    },
    "id": "-6OfDxe0zf8s",
    "outputId": "b369d63a-ccfb-4439-8884-2a60caaebb9a"
   },
   "outputs": [
    {
     "name": "stdout",
     "output_type": "stream",
     "text": [
      "Num Images:  3000\n"
     ]
    }
   ],
   "source": [
    "print(\"Num Images: \", num_images_test)\n",
    "_xTest = np.array(_xTest, dtype='uint8')\n",
    "_xTest = _xTest.reshape(num_images_test, 240, 240, 1)\n",
    "_yTest = np.array(_yTest)"
   ]
  },
  {
   "cell_type": "markdown",
   "metadata": {
    "colab_type": "text",
    "id": "1hZOpGAaUcnw"
   },
   "source": [
    "# Predicting model"
   ]
  },
  {
   "cell_type": "code",
   "execution_count": 0,
   "metadata": {
    "colab": {},
    "colab_type": "code",
    "id": "HK814jWk6RFs"
   },
   "outputs": [],
   "source": [
    "preds = model.predict(_xTest)"
   ]
  },
  {
   "cell_type": "code",
   "execution_count": 0,
   "metadata": {
    "colab": {},
    "colab_type": "code",
    "id": "TK2HV9hI6_9a"
   },
   "outputs": [],
   "source": [
    "pred_classes = model.predict_classes(_xTest)"
   ]
  },
  {
   "cell_type": "code",
   "execution_count": 136,
   "metadata": {
    "colab": {
     "base_uri": "https://localhost:8080/",
     "height": 33
    },
    "colab_type": "code",
    "executionInfo": {
     "elapsed": 820,
     "status": "ok",
     "timestamp": 1586777291233,
     "user": {
      "displayName": "Divya Nambiar",
      "photoUrl": "https://lh3.googleusercontent.com/a-/AOh14Gg9xpIsj3XCf1Kk6vaJQZZF9Z43D2ba3D6eWxgbIQ=s64",
      "userId": "13291512088634211307"
     },
     "user_tz": -330
    },
    "id": "7Xal5paF75mR",
    "outputId": "5cbf0c20-589a-4ffd-b775-7e8cb8bbf439"
   },
   "outputs": [
    {
     "data": {
      "text/plain": [
       "array([0, 1, 2, 3, 4])"
      ]
     },
     "execution_count": 136,
     "metadata": {
      "tags": []
     },
     "output_type": "execute_result"
    }
   ],
   "source": [
    "np.unique(pred_classes)"
   ]
  },
  {
   "cell_type": "markdown",
   "metadata": {
    "colab_type": "text",
    "id": "iZCvajqzUmNp"
   },
   "source": [
    "# Confusion Matrix\n"
   ]
  },
  {
   "cell_type": "code",
   "execution_count": 140,
   "metadata": {
    "colab": {
     "base_uri": "https://localhost:8080/",
     "height": 311
    },
    "colab_type": "code",
    "executionInfo": {
     "elapsed": 956,
     "status": "ok",
     "timestamp": 1586777373914,
     "user": {
      "displayName": "Divya Nambiar",
      "photoUrl": "https://lh3.googleusercontent.com/a-/AOh14Gg9xpIsj3XCf1Kk6vaJQZZF9Z43D2ba3D6eWxgbIQ=s64",
      "userId": "13291512088634211307"
     },
     "user_tz": -330
    },
    "id": "3PgUxsgH79uI",
    "outputId": "ff7c1463-b946-4daf-fc22-1577ff73694c"
   },
   "outputs": [
    {
     "data": {
      "text/plain": [
       "Text(33.0, 0.5, 'actual')"
      ]
     },
     "execution_count": 140,
     "metadata": {
      "tags": []
     },
     "output_type": "execute_result"
    },
    {
     "data": {
      "image/png": "[encoded data removed]",
      "text/plain": [
       "<Figure size 432x288 with 2 Axes>"
      ]
     },
     "metadata": {
      "needs_background": "light",
      "tags": []
     },
     "output_type": "display_data"
    }
   ],
   "source": [
    "import seaborn as sns\n",
    "# Confusion metrics  \n",
    "# the  below diagram represents  as: \n",
    "#############\n",
    "#  TP # FN #\n",
    "############\n",
    "#  FP # TN #\n",
    "###########\n",
    "# where T True,  F false  N -ve and  P +ve  \n",
    "#  Precision will be  ( TP / ( TP+FP ) )\n",
    "#  Recall  will be  ( TP / ( TP + FN ) )\n",
    "labels = [1,0]\n",
    "cm = confusion_matrix(_yTest, pred_classes, labels)\n",
    "sns.heatmap(cm, fmt=\"0.0f\", xticklabels=['Yes', 'No'], yticklabels=['Yes', 'No'], annot=True)\n",
    "plt.title(\"Confusion MatrixR\")\n",
    "plt.xlabel('predicted')\n",
    "plt.ylabel('actual') "
   ]
  },
  {
   "cell_type": "code",
   "execution_count": 142,
   "metadata": {
    "colab": {
     "base_uri": "https://localhost:8080/",
     "height": 212
    },
    "colab_type": "code",
    "executionInfo": {
     "elapsed": 626,
     "status": "ok",
     "timestamp": 1586777388594,
     "user": {
      "displayName": "Divya Nambiar",
      "photoUrl": "https://lh3.googleusercontent.com/a-/AOh14Gg9xpIsj3XCf1Kk6vaJQZZF9Z43D2ba3D6eWxgbIQ=s64",
      "userId": "13291512088634211307"
     },
     "user_tz": -330
    },
    "id": "pokHsxsz9Xqn",
    "outputId": "a705f46f-ad7f-4082-c9b7-ef6aab64a217"
   },
   "outputs": [
    {
     "name": "stdout",
     "output_type": "stream",
     "text": [
      "              precision    recall  f1-score   support\n",
      "\n",
      "           0       0.35      0.27      0.30       540\n",
      "           1       0.55      0.68      0.61       690\n",
      "           2       0.42      0.38      0.40       660\n",
      "           3       0.57      0.54      0.56       630\n",
      "           4       0.38      0.42      0.40       480\n",
      "\n",
      "    accuracy                           0.47      3000\n",
      "   macro avg       0.45      0.46      0.45      3000\n",
      "weighted avg       0.46      0.47      0.46      3000\n",
      "\n"
     ]
    }
   ],
   "source": [
    "print(classification_report(_yTest, pred_classes)) "
   ]
  },
  {
   "cell_type": "code",
   "execution_count": 143,
   "metadata": {
    "colab": {
     "base_uri": "https://localhost:8080/",
     "height": 33
    },
    "colab_type": "code",
    "executionInfo": {
     "elapsed": 602,
     "status": "ok",
     "timestamp": 1586777419868,
     "user": {
      "displayName": "Divya Nambiar",
      "photoUrl": "https://lh3.googleusercontent.com/a-/AOh14Gg9xpIsj3XCf1Kk6vaJQZZF9Z43D2ba3D6eWxgbIQ=s64",
      "userId": "13291512088634211307"
     },
     "user_tz": -330
    },
    "id": "AVaP0VJK9yNW",
    "outputId": "3c753779-dba6-4a39-c41f-ecf9ad4a441d"
   },
   "outputs": [
    {
     "name": "stdout",
     "output_type": "stream",
     "text": [
      "0.4706666666666667\n"
     ]
    }
   ],
   "source": [
    "print(accuracy_score(_yTest, pred_classes))"
   ]
  },
  {
   "cell_type": "code",
   "execution_count": 0,
   "metadata": {
    "colab": {},
    "colab_type": "code",
    "id": "RzCZEcwG976Y"
   },
   "outputs": [],
   "source": []
  }
 ],
 "metadata": {
  "accelerator": "TPU",
  "colab": {
   "authorship_tag": "ABX9TyNkBmdseFbk7UxiHHAvf8VM",
   "collapsed_sections": [],
   "machine_shape": "hm",
   "mount_file_id": "1jsYmqhtMyCb_ihOoet7Zg-C0iuuZYiu0",
   "name": "Untitled10.ipynb",
   "provenance": []
  },
  "kernelspec": {
   "display_name": "Python 3",
   "language": "python",
   "name": "python3"
  },
  "language_info": {
   "codemirror_mode": {
    "name": "ipython",
    "version": 3
   },
   "file_extension": ".py",
   "mimetype": "text/x-python",
   "name": "python",
   "nbconvert_exporter": "python",
   "pygments_lexer": "ipython3",
   "version": "3.7.3"
  }
 },
 "nbformat": 4,
 "nbformat_minor": 1
}
